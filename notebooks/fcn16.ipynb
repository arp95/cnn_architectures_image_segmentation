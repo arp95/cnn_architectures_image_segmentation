{
 "cells": [
  {
   "cell_type": "code",
   "execution_count": 1,
   "metadata": {},
   "outputs": [],
   "source": [
    "# header files needed\n",
    "import torch\n",
    "import torch.nn as nn\n",
    "import torchvision\n",
    "from dataset import *\n",
    "from transforms import *\n",
    "import numpy as np\n",
    "import glob\n",
    "#import cv2"
   ]
  },
  {
   "cell_type": "code",
   "execution_count": 2,
   "metadata": {},
   "outputs": [],
   "source": [
    "# ensure the experiment produces same result on each run\n",
    "np.random.seed(1234)\n",
    "torch.manual_seed(1234)\n",
    "torch.cuda.manual_seed(1234)"
   ]
  },
  {
   "cell_type": "code",
   "execution_count": null,
   "metadata": {},
   "outputs": [],
   "source": [
    "from google.colab import drive\n",
    "drive.mount('/content/drive')"
   ]
  },
  {
   "cell_type": "code",
   "execution_count": null,
   "metadata": {},
   "outputs": [],
   "source": [
    "transforms = torchvision.transforms.Compose([ToTensor(), Normalize()])\n",
    "train_dataset = SegDataset(\"/content/drive/My Drive/CrackForest/\", \"Images\", \"Masks\", transform=transforms, seed=100, fraction=0.2, subset=\"Train\")\n",
    "val_dataset = SegDataset(\"/content/drive/My Drive/CrackForest/\", \"Images\", \"Masks\", transform=transforms, seed=100, fraction=0.2, subset=\"Val\")"
   ]
  },
  {
   "cell_type": "code",
   "execution_count": null,
   "metadata": {},
   "outputs": [],
   "source": [
    "train_loader = torch.utils.data.DataLoader(train_dataset, batch_size=8, shuffle=True, num_workers=8)\n",
    "val_loader = torch.utils.data.DataLoader(val_dataset, batch_size=8, shuffle=True, num_workers=8)"
   ]
  },
  {
   "cell_type": "code",
   "execution_count": null,
   "metadata": {},
   "outputs": [],
   "source": [
    "# loss\n",
    "device = torch.device(\"cuda\" if torch.cuda.is_available() else \"cpu\")\n",
    "criterion = torch.nn.MSELoss()"
   ]
  },
  {
   "cell_type": "code",
   "execution_count": null,
   "metadata": {},
   "outputs": [],
   "source": [
    "# hyper-parameters and hard-coded values\n",
    "num_epochs = 100\n",
    "lr = 1e-4\n",
    "wd = 5e-6"
   ]
  },
  {
   "cell_type": "code",
   "execution_count": null,
   "metadata": {},
   "outputs": [],
   "source": [
    "# model\n",
    "class FCN16(torch.nn.Module):\n",
    "\n",
    "  # init function\n",
    "  def __init__(self, pretrained_net, num_classes=num_classes):\n",
    "    super(FCN16, self).__init__()\n",
    "\n",
    "    # enocder 1 and encoder 2\n",
    "    self.encoder_1 = torch.nn.Sequential(*list(pretrained_net.features.children())[:-10])\n",
    "    self.encoder_2 = torch.nn.Sequential(*list(pretrained_net.features.children())[-10:])\n",
    "\n",
    "    self.encoder_classifier = torch.nn.Sequential(\n",
    "        torch.nn.Conv2d(512, 4096, kernel_size=1),\n",
    "        torch.nn.ReLU(inplace=True),\n",
    "        torch.nn.Dropout(),\n",
    "        torch.nn.Conv2d(4096, 4096, kernel_size=1),\n",
    "        torch.nn.ReLU(inplace=True),\n",
    "        torch.nn.Dropout()\n",
    "    )\n",
    "\n",
    "    # decoder 1 and decoder 2\n",
    "    self.decoder_1 = torch.nn.Sequential(\n",
    "        torch.nn.ConvTranspose2d(4096, 512, kernel_size=3, stride=2, padding=1, output_padding=1),\n",
    "        torch.nn.BatchNorm2d(512),\n",
    "        torch.nn.ReLU(inplace=True)\n",
    "    )\n",
    "\n",
    "    self.decoder_2 = torch.nn.Sequential(\n",
    "        torch.nn.ConvTranspose2d(512, 256, kernel_size=3, stride=2, padding=1, output_padding=1),\n",
    "        torch.nn.BatchNorm2d(256),\n",
    "        torch.nn.ReLU(inplace=True),\n",
    "        torch.nn.ConvTranspose2d(256, 128, kernel_size=3, stride=2, padding=1, output_padding=1),\n",
    "        torch.nn.BatchNorm2d(128),\n",
    "        torch.nn.ReLU(inplace=True),\n",
    "        torch.nn.ConvTranspose2d(128, 64, kernel_size=3, stride=2, padding=1, output_padding=1),\n",
    "        torch.nn.BatchNorm2d(64),\n",
    "        torch.nn.ReLU(inplace=True),\n",
    "        torch.nn.ConvTranspose2d(64, 32, kernel_size=3, stride=2, padding=1, output_padding=1),\n",
    "        torch.nn.BatchNorm2d(32),\n",
    "        torch.nn.ReLU(inplace=True),\n",
    "        torch.nn.Conv2d(32, num_classes, kernel_size=1)\n",
    "    )\n",
    "\n",
    "  # forward function\n",
    "  def forward(self, x):\n",
    "    # apply encoder\n",
    "    enc_output_1 = self.encoder_1(x)\n",
    "    output = self.encoder_2(enc_output_1)\n",
    "    output = self.encoder_classifier(output)\n",
    "\n",
    "    # apply decoder\n",
    "    dec_output_1 = self.decoder_1(output)\n",
    "    output = dec_output_1 + enc_output_1\n",
    "    output = self.decoder_2(output)\n",
    "\n",
    "    # return the predicted label image\n",
    "    return output"
   ]
  },
  {
   "cell_type": "code",
   "execution_count": null,
   "metadata": {},
   "outputs": [],
   "source": [
    "model = torchvision.models.vgg16_bn(pretrained=True)\n",
    "model = FCN16(model, 1)\n",
    "model.to(device)"
   ]
  },
  {
   "cell_type": "code",
   "execution_count": null,
   "metadata": {},
   "outputs": [],
   "source": [
    "# create optimizer\n",
    "optimizer = torch.optim.SGD(model.parameters(), lr=lr, weight_decay=wd, momentum=0.95)"
   ]
  },
  {
   "cell_type": "code",
   "execution_count": null,
   "metadata": {},
   "outputs": [],
   "source": [
    "train_loss_list = []\n",
    "train_accuracy_list = []\n",
    "val_loss_list = []\n",
    "val_accuracy_list = []\n",
    "best_metric = -1\n",
    "best_metric_epoch = -1\n",
    "\n",
    "\n",
    "# training and val loop\n",
    "for epoch in range(0, num_epochs):\n",
    "\n",
    "  # train\n",
    "  model.train()\n",
    "  train_loss = 0.0\n",
    "  train_accuracy = 0.0\n",
    "  correct = 0.0\n",
    "  total = 0.0\n",
    "  for _, sample in enumerate(train_loader):\n",
    "    \n",
    "    # if cuda\n",
    "    images = sample[\"image\"].to(device)\n",
    "    labels = sample[\"mask\"].to(device)\n",
    "    \n",
    "    # get loss\n",
    "    optimizer.zero_grad()\n",
    "    outputs = model(images)['out']\n",
    "    loss = criterion(outputs, labels)\n",
    "    loss.backward()\n",
    "    optimizer.step()\n",
    "    train_loss += loss.item()\n",
    "\n",
    "    # convert outputs and labels to rank-1 tensor\n",
    "    outputs = outputs.flatten().cpu()\n",
    "    labels = labels.flatten().cpu()\n",
    "\n",
    "    # update training_accuracy\n",
    "    total += ((labels == labels) * (labels > 0)).sum()\n",
    "    correct += ((labels > 0) * (outputs > 0.1)).sum()\n",
    "\n",
    "  # update training_loss, training_accuracy and training_iou \n",
    "  train_loss = train_loss / float(len(train_loader))\n",
    "  train_accuracy = float(correct) / float(total)\n",
    "  train_loss_list.append(train_loss)\n",
    "  train_accuracy_list.append(train_accuracy)\n",
    "\n",
    "  # evaluation code\n",
    "  model.eval()\n",
    "  val_loss = 0.0\n",
    "  val_accuracy = 0.0\n",
    "  val_iou = 0.0\n",
    "  correct = 0.0\n",
    "  total = 0.0\n",
    "  for _, sample in enumerate(val_loader):\n",
    "    with torch.no_grad():\n",
    "\n",
    "      # if cuda\n",
    "      images = sample[\"image\"].to(device)\n",
    "      labels = sample[\"mask\"].to(device)\n",
    "\n",
    "      # get loss\n",
    "      outputs = model(images)['out']\n",
    "      loss = criterion(outputs, labels)\n",
    "      val_loss += loss.item()\n",
    "\n",
    "      # convert outputs and labels to rank-1 tensor\n",
    "      outputs = outputs.flatten().cpu()\n",
    "      labels = labels.flatten().cpu()\n",
    "\n",
    "      # update val_accuracy\n",
    "      total += ((labels == labels) * (labels > 0)).sum()\n",
    "      correct += ((labels > 0) * (outputs > 0.1)).sum()\n",
    "\n",
    "  # update val_loss, val_accuracy and val_iou \n",
    "  val_loss = val_loss / float(len(val_loader))\n",
    "  val_accuracy = float(correct) / float(total)\n",
    "  val_loss_list.append(val_loss)\n",
    "  val_accuracy_list.append(val_accuracy)\n",
    "\n",
    "  \n",
    "  # early stopping\n",
    "  if(best_metric < float(val_accuracy) and epoch >= 10):\n",
    "    best_metric = float(val_accuracy)\n",
    "    best_metric_epoch = epoch\n",
    "    torch.save(model.state_dict(), \"/content/drive/My Drive/best_model.pth\")\n",
    "\n",
    "  print()\n",
    "  print(\"Epoch: \" + str(epoch))\n",
    "  print(\"Training Loss: \" + str(train_loss) + \"    Validation Loss: \" + str(val_loss))\n",
    "  print(\"Training Accuracy: \" + str(train_accuracy) + \"    Validation Accuracy: \" + str(val_accuracy))\n",
    "  print()"
   ]
  },
  {
   "cell_type": "code",
   "execution_count": null,
   "metadata": {},
   "outputs": [],
   "source": [
    "import matplotlib.pyplot as plt"
   ]
  },
  {
   "cell_type": "code",
   "execution_count": null,
   "metadata": {},
   "outputs": [],
   "source": [
    "e = []\n",
    "for index in range(0, num_epochs):\n",
    "  e.append(index)"
   ]
  },
  {
   "cell_type": "code",
   "execution_count": null,
   "metadata": {},
   "outputs": [],
   "source": [
    "plt.plot(e, train_loss_list)"
   ]
  },
  {
   "cell_type": "code",
   "execution_count": null,
   "metadata": {},
   "outputs": [],
   "source": [
    "plt.plot(e, val_loss_list)"
   ]
  }
 ],
 "metadata": {
  "kernelspec": {
   "display_name": "Python 3",
   "language": "python",
   "name": "python3"
  },
  "language_info": {
   "codemirror_mode": {
    "name": "ipython",
    "version": 3
   },
   "file_extension": ".py",
   "mimetype": "text/x-python",
   "name": "python",
   "nbconvert_exporter": "python",
   "pygments_lexer": "ipython3",
   "version": "3.7.6"
  }
 },
 "nbformat": 4,
 "nbformat_minor": 2
}
