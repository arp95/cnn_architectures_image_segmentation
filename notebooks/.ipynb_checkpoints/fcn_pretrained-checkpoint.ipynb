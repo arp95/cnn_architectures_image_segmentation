{
 "cells": [
  {
   "cell_type": "code",
   "execution_count": 1,
   "metadata": {},
   "outputs": [],
   "source": [
    "# header files needed\n",
    "import torch\n",
    "import torch.nn as nn\n",
    "import torchvision\n",
    "from dataset import *\n",
    "from transforms import *\n",
    "import numpy as np\n",
    "import glob\n",
    "#import cv2"
   ]
  },
  {
   "cell_type": "code",
   "execution_count": 2,
   "metadata": {},
   "outputs": [],
   "source": [
    "# ensure the experiment produces same result on each run\n",
    "np.random.seed(1234)\n",
    "torch.manual_seed(1234)\n",
    "torch.cuda.manual_seed(1234)"
   ]
  },
  {
   "cell_type": "code",
   "execution_count": null,
   "metadata": {},
   "outputs": [],
   "source": [
    "from google.colab import drive\n",
    "drive.mount('/content/drive')"
   ]
  },
  {
   "cell_type": "code",
   "execution_count": null,
   "metadata": {},
   "outputs": [],
   "source": [
    "transforms = torchvision.transforms.Compose([ToTensor(), Normalize()])\n",
    "train_dataset = SegDataset(\"/content/drive/My Drive/CrackForest/\", \"Images\", \"Masks\", transform=transforms, seed=100, fraction=0.2, subset=\"Train\")\n",
    "val_dataset = SegDataset(\"/content/drive/My Drive/CrackForest/\", \"Images\", \"Masks\", transform=transforms, seed=100, fraction=0.2, subset=\"Val\")"
   ]
  },
  {
   "cell_type": "code",
   "execution_count": null,
   "metadata": {},
   "outputs": [],
   "source": [
    "train_loader = torch.utils.data.DataLoader(train_dataset, batch_size=8, shuffle=True, num_workers=8)\n",
    "val_loader = torch.utils.data.DataLoader(val_dataset, batch_size=8, shuffle=True, num_workers=8)"
   ]
  },
  {
   "cell_type": "code",
   "execution_count": null,
   "metadata": {},
   "outputs": [],
   "source": [
    "# loss\n",
    "device = torch.device(\"cuda\" if torch.cuda.is_available() else \"cpu\")\n",
    "criterion = torch.nn.MSELoss()"
   ]
  },
  {
   "cell_type": "code",
   "execution_count": null,
   "metadata": {},
   "outputs": [],
   "source": [
    "# hyper-parameters and hard-coded values\n",
    "num_epochs = 100\n",
    "lr = 1e-4\n",
    "wd = 5e-6"
   ]
  },
  {
   "cell_type": "code",
   "execution_count": null,
   "metadata": {},
   "outputs": [],
   "source": [
    "model = torchvision.models.segmentation.fcn_resnet101(pretrained=True)\n",
    "model.classifier = torchvision.models.segmentation.fcn.FCNHead(2048, 1)\n",
    "model.to(device)\n",
    "print(model)"
   ]
  },
  {
   "cell_type": "code",
   "execution_count": null,
   "metadata": {},
   "outputs": [],
   "source": [
    "# create optimizer\n",
    "optimizer = torch.optim.SGD(model.parameters(), lr=lr, weight_decay=wd, momentum=0.95)"
   ]
  },
  {
   "cell_type": "code",
   "execution_count": null,
   "metadata": {},
   "outputs": [],
   "source": [
    "train_loss_list = []\n",
    "train_accuracy_list = []\n",
    "val_loss_list = []\n",
    "val_accuracy_list = []\n",
    "best_metric = -1\n",
    "best_metric_epoch = -1\n",
    "\n",
    "\n",
    "# training and val loop\n",
    "for epoch in range(0, num_epochs):\n",
    "\n",
    "  # train\n",
    "  model.train()\n",
    "  train_loss = 0.0\n",
    "  train_accuracy = 0.0\n",
    "  correct = 0.0\n",
    "  total = 0.0\n",
    "  for _, sample in enumerate(train_loader):\n",
    "    \n",
    "    # if cuda\n",
    "    images = sample[\"image\"].to(device)\n",
    "    labels = sample[\"mask\"].to(device)\n",
    "    \n",
    "    # get loss\n",
    "    optimizer.zero_grad()\n",
    "    outputs = model(images)['out']\n",
    "    loss = criterion(outputs, labels)\n",
    "    loss.backward()\n",
    "    optimizer.step()\n",
    "    train_loss += loss.item()\n",
    "\n",
    "    # convert outputs and labels to rank-1 tensor\n",
    "    outputs = outputs.flatten().cpu()\n",
    "    labels = labels.flatten().cpu()\n",
    "\n",
    "    # update training_accuracy\n",
    "    total += ((labels == labels) * (labels > 0)).sum()\n",
    "    correct += ((labels > 0) * (outputs > 0.1)).sum()\n",
    "\n",
    "  # update training_loss, training_accuracy and training_iou \n",
    "  train_loss = train_loss / float(len(train_loader))\n",
    "  train_accuracy = float(correct) / float(total)\n",
    "  train_loss_list.append(train_loss)\n",
    "  train_accuracy_list.append(train_accuracy)\n",
    "\n",
    "  # evaluation code\n",
    "  model.eval()\n",
    "  val_loss = 0.0\n",
    "  val_accuracy = 0.0\n",
    "  val_iou = 0.0\n",
    "  correct = 0.0\n",
    "  total = 0.0\n",
    "  for _, sample in enumerate(val_loader):\n",
    "    with torch.no_grad():\n",
    "\n",
    "      # if cuda\n",
    "      images = sample[\"image\"].to(device)\n",
    "      labels = sample[\"mask\"].to(device)\n",
    "\n",
    "      # get loss\n",
    "      outputs = model(images)['out']\n",
    "      loss = criterion(outputs, labels)\n",
    "      val_loss += loss.item()\n",
    "\n",
    "      # convert outputs and labels to rank-1 tensor\n",
    "      outputs = outputs.flatten().cpu()\n",
    "      labels = labels.flatten().cpu()\n",
    "\n",
    "      # update val_accuracy\n",
    "      total += ((labels == labels) * (labels > 0)).sum()\n",
    "      correct += ((labels > 0) * (outputs > 0.1)).sum()\n",
    "\n",
    "  # update val_loss, val_accuracy and val_iou \n",
    "  val_loss = val_loss / float(len(val_loader))\n",
    "  val_accuracy = float(correct) / float(total)\n",
    "  val_loss_list.append(val_loss)\n",
    "  val_accuracy_list.append(val_accuracy)\n",
    "\n",
    "  \n",
    "  # early stopping\n",
    "  if(best_metric < float(val_accuracy) and epoch >= 10):\n",
    "    best_metric = float(val_accuracy)\n",
    "    best_metric_epoch = epoch\n",
    "    torch.save(model.state_dict(), \"/content/drive/My Drive/best_model.pth\")\n",
    "\n",
    "  print()\n",
    "  print(\"Epoch: \" + str(epoch))\n",
    "  print(\"Training Loss: \" + str(train_loss) + \"    Validation Loss: \" + str(val_loss))\n",
    "  print(\"Training Accuracy: \" + str(train_accuracy) + \"    Validation Accuracy: \" + str(val_accuracy))\n",
    "  print()"
   ]
  },
  {
   "cell_type": "code",
   "execution_count": 3,
   "metadata": {},
   "outputs": [],
   "source": [
    "import matplotlib.pyplot as plt"
   ]
  },
  {
   "cell_type": "code",
   "execution_count": 4,
   "metadata": {},
   "outputs": [],
   "source": [
    "e = []\n",
    "for index in range(0, num_epochs):\n",
    "  e.append(index)"
   ]
  },
  {
   "cell_type": "code",
   "execution_count": null,
   "metadata": {},
   "outputs": [],
   "source": [
    "plt.plot(e, train_loss_list)"
   ]
  },
  {
   "cell_type": "code",
   "execution_count": null,
   "metadata": {},
   "outputs": [],
   "source": [
    "plt.plot(e, val_loss_list)"
   ]
  }
 ],
 "metadata": {
  "kernelspec": {
   "display_name": "Python 3",
   "language": "python",
   "name": "python3"
  },
  "language_info": {
   "codemirror_mode": {
    "name": "ipython",
    "version": 3
   },
   "file_extension": ".py",
   "mimetype": "text/x-python",
   "name": "python",
   "nbconvert_exporter": "python",
   "pygments_lexer": "ipython3",
   "version": "3.7.6"
  }
 },
 "nbformat": 4,
 "nbformat_minor": 4
}
