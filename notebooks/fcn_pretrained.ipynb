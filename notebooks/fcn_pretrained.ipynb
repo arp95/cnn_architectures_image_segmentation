{
 "cells": [
  {
   "cell_type": "code",
   "execution_count": 1,
   "metadata": {},
   "outputs": [],
   "source": [
    "# header files needed\n",
    "import numpy as np\n",
    "import torch\n",
    "import torch.nn as nn\n",
    "import torchvision"
   ]
  },
  {
   "cell_type": "code",
   "execution_count": 2,
   "metadata": {},
   "outputs": [],
   "source": [
    "# ensure the experiment produces same result on each run\n",
    "np.random.seed(1234)\n",
    "torch.manual_seed(1234)\n",
    "torch.cuda.manual_seed(1234)"
   ]
  },
  {
   "cell_type": "code",
   "execution_count": null,
   "metadata": {},
   "outputs": [],
   "source": [
    "from google.colab import drive\n",
    "drive.mount('/content/drive')"
   ]
  },
  {
   "cell_type": "code",
   "execution_count": null,
   "metadata": {},
   "outputs": [],
   "source": [
    "# transforms\n",
    "input_transform = torchvision.transforms.Compose([\n",
    "    torchvision.transforms.Resize((256, 256)),\n",
    "    torchvision.transforms.CenterCrop((224, 224)),\n",
    "    torchvision.transforms.ToTensor(),\n",
    "    torchvision.transforms.Normalize([0.485, 0.456, 0.406], [0.229, 0.224, 0.225])\n",
    "])\n",
    "\n",
    "target_transform = torchvision.transforms.Compose([                         \n",
    "    torchvision.transforms.Resize((256, 256)),\n",
    "    torchvision.transforms.CenterCrop((224, 224)),\n",
    "    torchvision.transforms.ToTensor()\n",
    "])"
   ]
  },
  {
   "cell_type": "code",
   "execution_count": null,
   "metadata": {},
   "outputs": [],
   "source": [
    "# dataset\n",
    "train_dataset = torchvision.datasets.VOCSegmentation(\"/content/drive/My Drive/\", year='2012', image_set='train', download=False, transform=input_transform, target_transform=target_transform)\n",
    "val_dataset = torchvision.datasets.VOCSegmentation(\"/content/drive/My Drive/\", year='2012', image_set='val', download=False, transform=input_transform, target_transform=target_transform)"
   ]
  },
  {
   "cell_type": "code",
   "execution_count": null,
   "metadata": {},
   "outputs": [],
   "source": [
    "# data loader\n",
    "train_loader = torch.utils.data.DataLoader(train_dataset, batch_size=12, shuffle=True, num_workers=8)\n",
    "val_loader = torch.utils.data.DataLoader(val_dataset, batch_size=12, shuffle=True, num_workers=8)"
   ]
  },
  {
   "cell_type": "code",
   "execution_count": null,
   "metadata": {},
   "outputs": [],
   "source": [
    "# loss\n",
    "device = torch.device(\"cuda\" if torch.cuda.is_available() else \"cpu\")\n",
    "criterion = torch.nn.CrossEntropyLoss(ignore_index=255)"
   ]
  },
  {
   "cell_type": "code",
   "execution_count": null,
   "metadata": {},
   "outputs": [],
   "source": [
    "# hyper-parameters and hard-coded values\n",
    "num_classes = 21\n",
    "num_epochs = 100\n",
    "lr = 1e-5\n",
    "wd = 1e-6"
   ]
  },
  {
   "cell_type": "code",
   "execution_count": null,
   "metadata": {},
   "outputs": [],
   "source": [
    "model = torchvision.models.segmentation.fcn_resnet101(pretrained=True)\n",
    "model.to(device)\n",
    "print(model)"
   ]
  },
  {
   "cell_type": "code",
   "execution_count": null,
   "metadata": {},
   "outputs": [],
   "source": [
    "# create optimizer\n",
    "optimizer = torch.optim.Adam(model.parameters(), lr=lr, weight_decay=wd)"
   ]
  },
  {
   "cell_type": "code",
   "execution_count": null,
   "metadata": {},
   "outputs": [],
   "source": [
    "train_loss_list = []\n",
    "train_accuracy_list = []\n",
    "train_iou_list = []\n",
    "val_loss_list = []\n",
    "val_accuracy_list = []\n",
    "val_iou_list = []\n",
    "best_metric = -1\n",
    "best_metric_epoch = -1\n",
    "\n",
    "\n",
    "# training and val loop\n",
    "for epoch in range(0, num_epochs):\n",
    "\n",
    "  # train\n",
    "  model.train()\n",
    "  train_loss = 0.0\n",
    "  train_accuracy = 0.0\n",
    "  train_iou = 0.0\n",
    "  correct = 0.0\n",
    "  total = 0.0\n",
    "  area_intersection = 0.0\n",
    "  area_union = 0.0\n",
    "  for step, (images, labels) in enumerate(train_loader):\n",
    "    \n",
    "    # if cuda\n",
    "    images = images.to(device)\n",
    "    labels = labels.type(torch.LongTensor)\n",
    "    labels = labels.reshape(labels.shape[0], labels.shape[2], labels.shape[3])\n",
    "    labels = labels.to(device)\n",
    "    \n",
    "    # get loss\n",
    "    optimizer.zero_grad()\n",
    "    outputs = model(images)['out']\n",
    "    loss = criterion(outputs, labels)\n",
    "    loss.backward()\n",
    "    optimizer.step()\n",
    "    train_loss += loss.item()\n",
    "\n",
    "    # convert outputs and labels to rank-1 tensor\n",
    "    outputs = outputs.argmax(1).flatten().cpu()\n",
    "    labels = labels.flatten().cpu()\n",
    "    intersection = outputs * (outputs == labels).long()\n",
    "\n",
    "    # update training_accuracy\n",
    "    total += ((labels == labels) * (labels > 0)).sum()\n",
    "    correct += ((outputs == labels) * (labels > 0)).sum()\n",
    "\n",
    "    # update training_iou\n",
    "    area_intersection_array = torch.histc(intersection.float(), bins=num_classes-1, max=num_classes-1, min=1)\n",
    "    area_labels_array = torch.histc(labels.float(), bins=num_classes-1, max=num_classes-1, min=1)\n",
    "    area_outputs_array = torch.histc(outputs.float(), bins=num_classes-1, max=num_classes-1, min=1)\n",
    "    area_union_array = area_outputs_array + area_labels_array - area_intersection_array\n",
    "    area_intersection += float(torch.sum(area_intersection_array))\n",
    "    area_union += float(torch.sum(area_union_array))\n",
    "\n",
    "  # update training_loss, training_accuracy and training_iou \n",
    "  train_loss = train_loss / float(len(train_loader))\n",
    "  train_accuracy = float(correct) / float(total)\n",
    "  train_iou = float(area_intersection) / float(area_union)\n",
    "  train_loss_list.append(train_loss)\n",
    "  train_accuracy_list.append(train_accuracy)\n",
    "  train_iou_list.append(train_iou)\n",
    "  \n",
    "  # evaluation code\n",
    "  model.eval()\n",
    "  val_loss = 0.0\n",
    "  val_accuracy = 0.0\n",
    "  val_iou = 0.0\n",
    "  correct = 0.0\n",
    "  total = 0.0\n",
    "  area_intersection = 0.0\n",
    "  area_union = 0.0\n",
    "  for step, (images, labels) in enumerate(val_loader):\n",
    "    with torch.no_grad():\n",
    "\n",
    "      # if cuda\n",
    "      images = images.to(device)\n",
    "      labels = labels.type(torch.LongTensor)\n",
    "      labels = labels.reshape(labels.shape[0], labels.shape[2], labels.shape[3])\n",
    "      labels = labels.to(device)\n",
    "\n",
    "      # get loss\n",
    "      outputs = model(images)['out']\n",
    "      loss = criterion(outputs, labels)\n",
    "      val_loss += loss.item()\n",
    "\n",
    "      # convert outputs and labels to rank-1 tensor\n",
    "      outputs = outputs.argmax(1).flatten().cpu()\n",
    "      labels = labels.flatten().cpu()\n",
    "      intersection = outputs * (outputs == labels).long()\n",
    "\n",
    "      # update val_accuracy\n",
    "      total += ((labels == labels) * (labels > 0)).sum()\n",
    "      correct += ((outputs == labels) * (labels > 0)).sum()\n",
    "\n",
    "      # update val_iou\n",
    "      area_intersection_array = torch.histc(intersection.float(), bins=num_classes-1, max=num_classes-1, min=1)\n",
    "      area_labels_array = torch.histc(labels.float(), bins=num_classes-1, max=num_classes-1, min=1)\n",
    "      area_outputs_array = torch.histc(outputs.float(), bins=num_classes-1, max=num_classes-1, min=1)\n",
    "      area_union_array = area_outputs_array + area_labels_array - area_intersection_array\n",
    "      area_intersection += float(torch.sum(area_intersection_array))\n",
    "      area_union += float(torch.sum(area_union_array))\n",
    "\n",
    "  # update val_loss, val_accuracy and val_iou \n",
    "  val_loss = val_loss / float(len(val_loader))\n",
    "  val_accuracy = float(correct) / float(total)\n",
    "  val_iou = float(area_intersection) / float(area_union)\n",
    "  val_loss_list.append(val_loss)\n",
    "  val_accuracy_list.append(val_accuracy)\n",
    "  val_iou_list.append(val_iou)\n",
    "\n",
    "  \n",
    "  # early stopping\n",
    "  if(best_metric < float(val_accuracy) and epoch >= 30):\n",
    "    best_metric = float(val_accuracy)\n",
    "    best_metric_epoch = epoch\n",
    "    torch.save(model.state_dict(), \"best_model.pth\")\n",
    "\n",
    "  print()\n",
    "  print(\"Epoch: \" + str(epoch))\n",
    "  print(\"Training Loss: \" + str(train_loss) + \"    Validation Loss: \" + str(val_loss))\n",
    "  print(\"Training Accuracy: \" + str(train_accuracy) + \"    Validation Accuracy: \" + str(val_accuracy))\n",
    "  print(\"Training mIoU: \" + str(train_iou) + \"    Validation mIoU: \" + str(val_iou))\n",
    "  print()"
   ]
  },
  {
   "cell_type": "code",
   "execution_count": 3,
   "metadata": {},
   "outputs": [],
   "source": [
    "import matplotlib.pyplot as plt"
   ]
  },
  {
   "cell_type": "code",
   "execution_count": 4,
   "metadata": {},
   "outputs": [],
   "source": [
    "e = []\n",
    "for index in range(0, 100):\n",
    "  e.append(index)"
   ]
  },
  {
   "cell_type": "code",
   "execution_count": null,
   "metadata": {},
   "outputs": [],
   "source": [
    "plt.plot(e, train_iou_list)"
   ]
  },
  {
   "cell_type": "code",
   "execution_count": null,
   "metadata": {},
   "outputs": [],
   "source": [
    "plt.plot(e, val_iou_list)"
   ]
  }
 ],
 "metadata": {
  "kernelspec": {
   "display_name": "Python 3",
   "language": "python",
   "name": "python3"
  },
  "language_info": {
   "codemirror_mode": {
    "name": "ipython",
    "version": 3
   },
   "file_extension": ".py",
   "mimetype": "text/x-python",
   "name": "python",
   "nbconvert_exporter": "python",
   "pygments_lexer": "ipython3",
   "version": "3.7.6"
  }
 },
 "nbformat": 4,
 "nbformat_minor": 4
}
