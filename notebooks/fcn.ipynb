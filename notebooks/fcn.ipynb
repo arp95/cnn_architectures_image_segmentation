{
 "cells": [
  {
   "cell_type": "code",
   "execution_count": 1,
   "metadata": {},
   "outputs": [],
   "source": [
    "# header files needed\n",
    "import numpy as np\n",
    "import torch\n",
    "import torch.nn as nn\n",
    "import torchvision\n",
    "import random\n",
    "from PIL import Image\n",
    "import glob"
   ]
  },
  {
   "cell_type": "code",
   "execution_count": 2,
   "metadata": {},
   "outputs": [],
   "source": [
    "# ensure the experiment produces same result on each run\n",
    "random.seed(1234)\n",
    "np.random.seed(1234)\n",
    "torch.manual_seed(1234)\n",
    "torch.cuda.manual_seed(1234)"
   ]
  },
  {
   "cell_type": "code",
   "execution_count": 4,
   "metadata": {},
   "outputs": [],
   "source": [
    "from google.colab import drive\n",
    "drive.mount('/content/drive')"
   ]
  },
  {
   "cell_type": "code",
   "execution_count": null,
   "metadata": {},
   "outputs": [],
   "source": [
    "# transforms\n",
    "input_transform = torchvision.transforms.Compose([\n",
    "    torchvision.transforms.CenterCrop(256),\n",
    "    torchvision.transforms.ToTensor(),\n",
    "    torchvision.transforms.Normalize([0.485, 0.456, 0.406], [0.229, 0.224, 0.225])\n",
    "])\n",
    "\n",
    "target_transform = torchvision.transforms.Compose([\n",
    "    torchvision.transforms.CenterCrop(256),\n",
    "    torchvision.transforms.ToTensor()\n",
    "])"
   ]
  },
  {
   "cell_type": "code",
   "execution_count": null,
   "metadata": {},
   "outputs": [],
   "source": [
    "# dataset\n",
    "train_dataset = torchvision.datasets.VOCSegmentation(\"/content/drive/My Drive/\", year='2012', image_set='train', download=False, transform=input_transform, target_transform=target_transform)\n",
    "val_dataset = torchvision.datasets.VOCSegmentation(\"/content/drive/My Drive/\", year='2012', image_set='val', download=False, transform=input_transform, target_transform=target_transform)"
   ]
  },
  {
   "cell_type": "code",
   "execution_count": null,
   "metadata": {},
   "outputs": [],
   "source": [
    "# data loader\n",
    "train_loader = torch.utils.data.DataLoader(train_dataset, batch_size=1, shuffle=True, num_workers=8)\n",
    "val_loader = torch.utils.data.DataLoader(val_dataset, batch_size=1, shuffle=True, num_workers=8)"
   ]
  },
  {
   "cell_type": "code",
   "execution_count": null,
   "metadata": {},
   "outputs": [],
   "source": [
    "# loss\n",
    "weight = torch.ones(22)\n",
    "weight[0] = 0\n",
    "loss = torch.nn.NLLLoss2d(weight=weight)"
   ]
  },
  {
   "cell_type": "code",
   "execution_count": null,
   "metadata": {},
   "outputs": [],
   "source": [
    "# model\n",
    "class FCN(torch.nn.Module):\n",
    "\n",
    "  # init function\n",
    "  def __init__(self, num_classes=21):\n",
    "    super(FCN, self).__init__()\n",
    "\n",
    "    # vgg-16 backbone for encoder part\n",
    "    self.encoder = torch.nn.Sequential(\n",
    "        \n",
    "        # block 1\n",
    "        torch.nn.Conv2d(3, 64, kernel_size=3, padding=100),\n",
    "        torch.nn.BatchNorm2d(64),\n",
    "        torch.nn.ReLU(inplace=True),\n",
    "        torch.nn.Conv2d(64, 64, kernel_size=3, padding=1),\n",
    "        torch.nn.BatchNorm2d(64),\n",
    "        torch.nn.ReLU(inplace=True),\n",
    "        torch.nn.MaxPool2d(kernel_size=2, stride=2),         # 227 x 227 x 64\n",
    "\n",
    "        # block 2\n",
    "        torch.nn.Conv2d(64, 128, kernel_size=3, padding=1),\n",
    "        torch.nn.BatchNorm2d(128),\n",
    "        torch.nn.ReLU(inplace=True),\n",
    "        torch.nn.Conv2d(128, 128, kernel_size=3, padding=1),\n",
    "        torch.nn.BatchNorm2d(128),\n",
    "        torch.nn.ReLU(inplace=True),\n",
    "        torch.nn.MaxPool2d(kernel_size=2, stride=2),         # 113 x 113 x 128\n",
    "\n",
    "        # block 3\n",
    "        torch.nn.Conv2d(128, 256, kernel_size=3, padding=1),\n",
    "        torch.nn.BatchNorm2d(256),\n",
    "        torch.nn.ReLU(inplace=True),\n",
    "        torch.nn.Conv2d(256, 256, kernel_size=3, padding=1),\n",
    "        torch.nn.BatchNorm2d(256),\n",
    "        torch.nn.ReLU(inplace=True),\n",
    "        torch.nn.Conv2d(256, 256, kernel_size=3, padding=1),\n",
    "        torch.nn.BatchNorm2d(256),\n",
    "        torch.nn.ReLU(inplace=True),\n",
    "        torch.nn.MaxPool2d(kernel_size=2, stride=2),         # 56 x 56 x 256\n",
    "\n",
    "        # block 4\n",
    "        torch.nn.Conv2d(256, 512, kernel_size=3, padding=1),\n",
    "        torch.nn.BatchNorm2d(512),\n",
    "        torch.nn.ReLU(inplace=True),\n",
    "        torch.nn.Conv2d(512, 512, kernel_size=3, padding=1),\n",
    "        torch.nn.BatchNorm2d(512),\n",
    "        torch.nn.ReLU(inplace=True),\n",
    "        torch.nn.Conv2d(512, 512, kernel_size=3, padding=1),\n",
    "        torch.nn.BatchNorm2d(512),\n",
    "        torch.nn.ReLU(inplace=True),\n",
    "        torch.nn.MaxPool2d(kernel_size=2, stride=2),         # 28 x 28 x 512\n",
    "\n",
    "        # block 5\n",
    "        torch.nn.Conv2d(512, 512, kernel_size=3, padding=1),\n",
    "        torch.nn.BatchNorm2d(512),\n",
    "        torch.nn.ReLU(inplace=True),\n",
    "        torch.nn.Conv2d(512, 512, kernel_size=3, padding=1),\n",
    "        torch.nn.BatchNorm2d(512),\n",
    "        torch.nn.ReLU(inplace=True),\n",
    "        torch.nn.Conv2d(512, 512, kernel_size=3, padding=1),\n",
    "        torch.nn.BatchNorm2d(512),\n",
    "        torch.nn.ReLU(inplace=True),\n",
    "        torch.nn.MaxPool2d(kernel_size=2, stride=2),          # 14 x 14 x 512\n",
    "\n",
    "        # fc\n",
    "        torch.nn.Conv2d(512, 4096, kernel_size=7),\n",
    "        torch.nn.BatchNorm2d(4096),\n",
    "        torch.nn.ReLU(inplace=True),\n",
    "        torch.nn.Dropout2d(),\n",
    "        torch.nn.Conv2d(4096, 4096, kernel_size=1),\n",
    "        torch.nn.BatchNorm2d(4096),\n",
    "        torch.nn.Dropout2d()                                  # 8 x 8 x 4096\n",
    "    )"
   ]
  },
  {
   "cell_type": "code",
   "execution_count": null,
   "metadata": {},
   "outputs": [],
   "source": []
  },
  {
   "cell_type": "code",
   "execution_count": null,
   "metadata": {},
   "outputs": [],
   "source": []
  }
 ],
 "metadata": {
  "kernelspec": {
   "display_name": "Python 3",
   "language": "python",
   "name": "python3"
  },
  "language_info": {
   "codemirror_mode": {
    "name": "ipython",
    "version": 2
   },
   "file_extension": ".py",
   "mimetype": "text/x-python",
   "name": "python",
   "nbconvert_exporter": "python",
   "pygments_lexer": "ipython2",
   "version": "2.7.12"
  }
 },
 "nbformat": 4,
 "nbformat_minor": 2
}
